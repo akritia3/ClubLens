{
 "cells": [
  {
   "cell_type": "code",
   "execution_count": 1,
   "metadata": {},
   "outputs": [
    {
     "data": {
      "text/html": [
       "<div>\n",
       "<style scoped>\n",
       "    .dataframe tbody tr th:only-of-type {\n",
       "        vertical-align: middle;\n",
       "    }\n",
       "\n",
       "    .dataframe tbody tr th {\n",
       "        vertical-align: top;\n",
       "    }\n",
       "\n",
       "    .dataframe thead th {\n",
       "        text-align: right;\n",
       "    }\n",
       "</style>\n",
       "<table border=\"1\" class=\"dataframe\">\n",
       "  <thead>\n",
       "    <tr style=\"text-align: right;\">\n",
       "      <th></th>\n",
       "      <th>RSO Name</th>\n",
       "      <th>Category</th>\n",
       "      <th>Social/Professional</th>\n",
       "      <th>Size</th>\n",
       "      <th>Time Commitment</th>\n",
       "      <th>How Active They Are</th>\n",
       "      <th>Popularity</th>\n",
       "      <th>Majors</th>\n",
       "    </tr>\n",
       "  </thead>\n",
       "  <tbody>\n",
       "    <tr>\n",
       "      <th>0</th>\n",
       "      <td>Chess Club</td>\n",
       "      <td>Academic</td>\n",
       "      <td>Professional</td>\n",
       "      <td>30</td>\n",
       "      <td>3</td>\n",
       "      <td>8</td>\n",
       "      <td>6</td>\n",
       "      <td>Science</td>\n",
       "    </tr>\n",
       "    <tr>\n",
       "      <th>1</th>\n",
       "      <td>Photography Club</td>\n",
       "      <td>Arts</td>\n",
       "      <td>Social</td>\n",
       "      <td>25</td>\n",
       "      <td>4</td>\n",
       "      <td>7</td>\n",
       "      <td>5</td>\n",
       "      <td>Performing arts</td>\n",
       "    </tr>\n",
       "    <tr>\n",
       "      <th>2</th>\n",
       "      <td>Soccer Club</td>\n",
       "      <td>Sports</td>\n",
       "      <td>Social</td>\n",
       "      <td>40</td>\n",
       "      <td>5</td>\n",
       "      <td>9</td>\n",
       "      <td>8</td>\n",
       "      <td>Athletic &amp; Recreation</td>\n",
       "    </tr>\n",
       "    <tr>\n",
       "      <th>3</th>\n",
       "      <td>Drama Society</td>\n",
       "      <td>Arts</td>\n",
       "      <td>Social</td>\n",
       "      <td>50</td>\n",
       "      <td>6</td>\n",
       "      <td>7</td>\n",
       "      <td>7</td>\n",
       "      <td>Performing arts</td>\n",
       "    </tr>\n",
       "    <tr>\n",
       "      <th>4</th>\n",
       "      <td>Mathematics Club</td>\n",
       "      <td>Academic</td>\n",
       "      <td>Professional</td>\n",
       "      <td>20</td>\n",
       "      <td>3</td>\n",
       "      <td>8</td>\n",
       "      <td>6</td>\n",
       "      <td>Science</td>\n",
       "    </tr>\n",
       "    <tr>\n",
       "      <th>...</th>\n",
       "      <td>...</td>\n",
       "      <td>...</td>\n",
       "      <td>...</td>\n",
       "      <td>...</td>\n",
       "      <td>...</td>\n",
       "      <td>...</td>\n",
       "      <td>...</td>\n",
       "      <td>...</td>\n",
       "    </tr>\n",
       "    <tr>\n",
       "      <th>77</th>\n",
       "      <td>Philosophy Club</td>\n",
       "      <td>Academic</td>\n",
       "      <td>Professional</td>\n",
       "      <td>20</td>\n",
       "      <td>3</td>\n",
       "      <td>7</td>\n",
       "      <td>6</td>\n",
       "      <td>Science</td>\n",
       "    </tr>\n",
       "    <tr>\n",
       "      <th>78</th>\n",
       "      <td>Golf Club</td>\n",
       "      <td>Sports</td>\n",
       "      <td>Social</td>\n",
       "      <td>30</td>\n",
       "      <td>3</td>\n",
       "      <td>7</td>\n",
       "      <td>6</td>\n",
       "      <td>Athletic &amp; Recreation</td>\n",
       "    </tr>\n",
       "    <tr>\n",
       "      <th>79</th>\n",
       "      <td>Computer Graphics Club</td>\n",
       "      <td>Arts</td>\n",
       "      <td>Social</td>\n",
       "      <td>35</td>\n",
       "      <td>4</td>\n",
       "      <td>8</td>\n",
       "      <td>7</td>\n",
       "      <td>Performing arts</td>\n",
       "    </tr>\n",
       "    <tr>\n",
       "      <th>80</th>\n",
       "      <td>Creative Coding Society</td>\n",
       "      <td>Academic</td>\n",
       "      <td>Professional</td>\n",
       "      <td>25</td>\n",
       "      <td>4</td>\n",
       "      <td>7</td>\n",
       "      <td>7</td>\n",
       "      <td>Computer Science</td>\n",
       "    </tr>\n",
       "    <tr>\n",
       "      <th>81</th>\n",
       "      <td>Art Therapy Club</td>\n",
       "      <td>Arts</td>\n",
       "      <td>Social</td>\n",
       "      <td>20</td>\n",
       "      <td>3</td>\n",
       "      <td>7</td>\n",
       "      <td>6</td>\n",
       "      <td>Performing arts</td>\n",
       "    </tr>\n",
       "  </tbody>\n",
       "</table>\n",
       "<p>82 rows × 8 columns</p>\n",
       "</div>"
      ],
      "text/plain": [
       "                   RSO Name  Category Social/Professional  Size  \\\n",
       "0                Chess Club  Academic        Professional    30   \n",
       "1          Photography Club      Arts              Social    25   \n",
       "2               Soccer Club    Sports              Social    40   \n",
       "3             Drama Society      Arts              Social    50   \n",
       "4          Mathematics Club  Academic        Professional    20   \n",
       "..                      ...       ...                 ...   ...   \n",
       "77          Philosophy Club  Academic        Professional    20   \n",
       "78                Golf Club    Sports              Social    30   \n",
       "79   Computer Graphics Club      Arts              Social    35   \n",
       "80  Creative Coding Society  Academic        Professional    25   \n",
       "81         Art Therapy Club      Arts              Social    20   \n",
       "\n",
       "    Time Commitment  How Active They Are  Popularity                 Majors  \n",
       "0                 3                    8           6                Science  \n",
       "1                 4                    7           5        Performing arts  \n",
       "2                 5                    9           8  Athletic & Recreation  \n",
       "3                 6                    7           7        Performing arts  \n",
       "4                 3                    8           6                Science  \n",
       "..              ...                  ...         ...                    ...  \n",
       "77                3                    7           6                Science  \n",
       "78                3                    7           6  Athletic & Recreation  \n",
       "79                4                    8           7        Performing arts  \n",
       "80                4                    7           7       Computer Science  \n",
       "81                3                    7           6        Performing arts  \n",
       "\n",
       "[82 rows x 8 columns]"
      ]
     },
     "execution_count": 1,
     "metadata": {},
     "output_type": "execute_result"
    }
   ],
   "source": [
    "import pandas as pd\n",
    "df = pd.read_csv(\"dataset2.csv\")\n",
    "df"
   ]
  },
  {
   "cell_type": "code",
   "execution_count": 3,
   "metadata": {},
   "outputs": [
    {
     "data": {
      "application/vnd.plotly.v1+json": {
       "config": {
        "plotlyServerURL": "https://plot.ly"
       },
       "data": [
        {
         "hovertemplate": "<b>%{hovertext}</b><br><br>Category=%{x}<br>Popularity=%{y}<br>Size=%{marker.size}<br>How Active They Are=%{marker.color}<extra></extra>",
         "hovertext": [
          "Chess Club",
          "Photography Club",
          "Soccer Club",
          "Drama Society",
          "Mathematics Club",
          "Environmental Club",
          "Debate Team",
          "Music Ensemble",
          "Volleyball Club",
          "Red Cross Society",
          "Astronomy Club",
          "Cycling Club",
          "Film Society",
          "Computer Science Club",
          "Basketball Club",
          "Art Club",
          "Engineering Club",
          "Swimming Club",
          "Literary Society",
          "Marketing Club",
          "Gardening Club",
          "Dance Team",
          "History Club",
          "Football Club",
          "Physics Club",
          "International Students Club",
          "Model United Nations",
          "Running Club",
          "Cooking Club",
          "Robotics Club",
          "Tennis Club",
          "Animal Rights Club",
          "Psychology Club",
          "Science Fiction Society",
          "Ultimate Frisbee Club",
          "Amnesty International",
          "Art History Club",
          "Investment Club",
          "Martial Arts Club",
          "Fashion Club",
          "Geology Club",
          "Hiking Club",
          "Guitar Club",
          "Entrepreneurship Club",
          "Scuba Diving Club",
          "Chemistry Club",
          "Yoga Club",
          "Political Science Club",
          "E-Sports Club",
          "Creative Writing Society",
          "Aeronautics Club",
          "Tabletop Games Club",
          "Rugby Club",
          "Pre-Med Society",
          "Student Government",
          "Sustainability Club",
          "Acapella Group",
          "Astronomy Club",
          "Rowing Club",
          "Coding Club",
          "Fashion Design Club",
          "Debate Club",
          "Badminton Club",
          "Art History Club",
          "Rock Climbing Club",
          "Model Rocketry Club",
          "Student Newspaper",
          "Hiking Club",
          "History Club",
          "Music Production Club",
          "Eco Warriors Club",
          "Film Club",
          "Auto Enthusiasts Club",
          "Health and Fitness Club",
          "Chemical Engineering Society",
          "Chess Club",
          "Gaming Club",
          "Philosophy Club",
          "Golf Club",
          "Computer Graphics Club",
          "Creative Coding Society",
          "Art Therapy Club"
         ],
         "legendgroup": "",
         "marker": {
          "color": [
           8,
           7,
           9,
           7,
           8,
           7,
           8,
           8,
           9,
           7,
           8,
           9,
           7,
           8,
           9,
           7,
           8,
           9,
           7,
           9,
           7,
           8,
           8,
           9,
           8,
           7,
           8,
           9,
           7,
           8,
           9,
           7,
           8,
           7,
           9,
           7,
           8,
           8,
           9,
           7,
           8,
           9,
           7,
           9,
           7,
           8,
           9,
           8,
           9,
           8,
           8,
           7,
           9,
           8,
           9,
           7,
           7,
           8,
           9,
           8,
           7,
           8,
           7,
           8,
           9,
           7,
           7,
           8,
           7,
           9,
           8,
           8,
           7,
           7,
           8,
           8,
           9,
           7,
           7,
           8,
           7,
           7
          ],
          "coloraxis": "coloraxis",
          "size": [
           30,
           25,
           40,
           50,
           20,
           35,
           25,
           30,
           35,
           40,
           15,
           50,
           30,
           40,
           45,
           20,
           25,
           30,
           20,
           30,
           25,
           40,
           20,
           55,
           25,
           60,
           40,
           45,
           30,
           30,
           35,
           25,
           30,
           20,
           35,
           25,
           20,
           35,
           40,
           30,
           20,
           30,
           25,
           40,
           30,
           20,
           35,
           30,
           45,
           40,
           25,
           30,
           45,
           35,
           50,
           40,
           20,
           15,
           35,
           30,
           25,
           30,
           20,
           25,
           40,
           30,
           20,
           30,
           25,
           40,
           35,
           25,
           20,
           30,
           30,
           25,
           40,
           20,
           30,
           35,
           25,
           20
          ],
          "sizemode": "diameter",
          "sizeref": 0.6,
          "symbol": "circle"
         },
         "mode": "markers",
         "name": "",
         "orientation": "v",
         "showlegend": false,
         "type": "scatter",
         "x": [
          "Academic",
          "Arts",
          "Sports",
          "Arts",
          "Academic",
          "Service",
          "Academic",
          "Arts",
          "Sports",
          "Service",
          "Academic",
          "Sports",
          "Arts",
          "Academic",
          "Sports",
          "Arts",
          "Academic",
          "Sports",
          "Arts",
          "Academic",
          "Service",
          "Arts",
          "Academic",
          "Sports",
          "Academic",
          "Cultural",
          "Academic",
          "Sports",
          "Special Interest",
          "Academic",
          "Sports",
          "Service",
          "Academic",
          "Special Interest",
          "Sports",
          "Service",
          "Arts",
          "Academic",
          "Sports",
          "Arts",
          "Academic",
          "Sports",
          "Arts",
          "Business",
          "Special Interest",
          "Academic",
          "Sports",
          "Academic",
          "Special Interest",
          "Arts",
          "Academic",
          "Special Interest",
          "Sports",
          "Academic",
          "Service",
          "Service",
          "Arts",
          "Academic",
          "Sports",
          "Academic",
          "Arts",
          "Academic",
          "Sports",
          "Arts",
          "Sports",
          "Academic",
          "Service",
          "Sports",
          "Academic",
          "Arts",
          "Service",
          "Arts",
          "Special Interest",
          "Sports",
          "Academic",
          "Academic",
          "Special Interest",
          "Academic",
          "Sports",
          "Arts",
          "Academic",
          "Arts"
         ],
         "xaxis": "x",
         "y": [
          6,
          5,
          8,
          7,
          6,
          6,
          7,
          7,
          8,
          7,
          5,
          8,
          6,
          8,
          8,
          6,
          7,
          7,
          5,
          8,
          6,
          7,
          6,
          9,
          7,
          8,
          7,
          8,
          6,
          7,
          8,
          6,
          7,
          6,
          8,
          6,
          6,
          7,
          8,
          7,
          6,
          7,
          5,
          8,
          6,
          6,
          8,
          7,
          8,
          7,
          7,
          7,
          8,
          7,
          9,
          7,
          6,
          5,
          8,
          7,
          5,
          8,
          6,
          7,
          7,
          7,
          6,
          7,
          6,
          8,
          7,
          7,
          6,
          6,
          7,
          7,
          8,
          6,
          6,
          7,
          7,
          6
         ],
         "yaxis": "y"
        }
       ],
       "layout": {
        "coloraxis": {
         "colorbar": {
          "title": {
           "text": "How Active They Are"
          }
         },
         "colorscale": [
          [
           0,
           "#0d0887"
          ],
          [
           0.1111111111111111,
           "#46039f"
          ],
          [
           0.2222222222222222,
           "#7201a8"
          ],
          [
           0.3333333333333333,
           "#9c179e"
          ],
          [
           0.4444444444444444,
           "#bd3786"
          ],
          [
           0.5555555555555556,
           "#d8576b"
          ],
          [
           0.6666666666666666,
           "#ed7953"
          ],
          [
           0.7777777777777778,
           "#fb9f3a"
          ],
          [
           0.8888888888888888,
           "#fdca26"
          ],
          [
           1,
           "#f0f921"
          ]
         ]
        },
        "height": 500,
        "legend": {
         "itemsizing": "constant",
         "tracegroupgap": 0
        },
        "margin": {
         "t": 60
        },
        "template": {
         "data": {
          "bar": [
           {
            "error_x": {
             "color": "#2a3f5f"
            },
            "error_y": {
             "color": "#2a3f5f"
            },
            "marker": {
             "line": {
              "color": "#E5ECF6",
              "width": 0.5
             },
             "pattern": {
              "fillmode": "overlay",
              "size": 10,
              "solidity": 0.2
             }
            },
            "type": "bar"
           }
          ],
          "barpolar": [
           {
            "marker": {
             "line": {
              "color": "#E5ECF6",
              "width": 0.5
             },
             "pattern": {
              "fillmode": "overlay",
              "size": 10,
              "solidity": 0.2
             }
            },
            "type": "barpolar"
           }
          ],
          "carpet": [
           {
            "aaxis": {
             "endlinecolor": "#2a3f5f",
             "gridcolor": "white",
             "linecolor": "white",
             "minorgridcolor": "white",
             "startlinecolor": "#2a3f5f"
            },
            "baxis": {
             "endlinecolor": "#2a3f5f",
             "gridcolor": "white",
             "linecolor": "white",
             "minorgridcolor": "white",
             "startlinecolor": "#2a3f5f"
            },
            "type": "carpet"
           }
          ],
          "choropleth": [
           {
            "colorbar": {
             "outlinewidth": 0,
             "ticks": ""
            },
            "type": "choropleth"
           }
          ],
          "contour": [
           {
            "colorbar": {
             "outlinewidth": 0,
             "ticks": ""
            },
            "colorscale": [
             [
              0,
              "#0d0887"
             ],
             [
              0.1111111111111111,
              "#46039f"
             ],
             [
              0.2222222222222222,
              "#7201a8"
             ],
             [
              0.3333333333333333,
              "#9c179e"
             ],
             [
              0.4444444444444444,
              "#bd3786"
             ],
             [
              0.5555555555555556,
              "#d8576b"
             ],
             [
              0.6666666666666666,
              "#ed7953"
             ],
             [
              0.7777777777777778,
              "#fb9f3a"
             ],
             [
              0.8888888888888888,
              "#fdca26"
             ],
             [
              1,
              "#f0f921"
             ]
            ],
            "type": "contour"
           }
          ],
          "contourcarpet": [
           {
            "colorbar": {
             "outlinewidth": 0,
             "ticks": ""
            },
            "type": "contourcarpet"
           }
          ],
          "heatmap": [
           {
            "colorbar": {
             "outlinewidth": 0,
             "ticks": ""
            },
            "colorscale": [
             [
              0,
              "#0d0887"
             ],
             [
              0.1111111111111111,
              "#46039f"
             ],
             [
              0.2222222222222222,
              "#7201a8"
             ],
             [
              0.3333333333333333,
              "#9c179e"
             ],
             [
              0.4444444444444444,
              "#bd3786"
             ],
             [
              0.5555555555555556,
              "#d8576b"
             ],
             [
              0.6666666666666666,
              "#ed7953"
             ],
             [
              0.7777777777777778,
              "#fb9f3a"
             ],
             [
              0.8888888888888888,
              "#fdca26"
             ],
             [
              1,
              "#f0f921"
             ]
            ],
            "type": "heatmap"
           }
          ],
          "heatmapgl": [
           {
            "colorbar": {
             "outlinewidth": 0,
             "ticks": ""
            },
            "colorscale": [
             [
              0,
              "#0d0887"
             ],
             [
              0.1111111111111111,
              "#46039f"
             ],
             [
              0.2222222222222222,
              "#7201a8"
             ],
             [
              0.3333333333333333,
              "#9c179e"
             ],
             [
              0.4444444444444444,
              "#bd3786"
             ],
             [
              0.5555555555555556,
              "#d8576b"
             ],
             [
              0.6666666666666666,
              "#ed7953"
             ],
             [
              0.7777777777777778,
              "#fb9f3a"
             ],
             [
              0.8888888888888888,
              "#fdca26"
             ],
             [
              1,
              "#f0f921"
             ]
            ],
            "type": "heatmapgl"
           }
          ],
          "histogram": [
           {
            "marker": {
             "pattern": {
              "fillmode": "overlay",
              "size": 10,
              "solidity": 0.2
             }
            },
            "type": "histogram"
           }
          ],
          "histogram2d": [
           {
            "colorbar": {
             "outlinewidth": 0,
             "ticks": ""
            },
            "colorscale": [
             [
              0,
              "#0d0887"
             ],
             [
              0.1111111111111111,
              "#46039f"
             ],
             [
              0.2222222222222222,
              "#7201a8"
             ],
             [
              0.3333333333333333,
              "#9c179e"
             ],
             [
              0.4444444444444444,
              "#bd3786"
             ],
             [
              0.5555555555555556,
              "#d8576b"
             ],
             [
              0.6666666666666666,
              "#ed7953"
             ],
             [
              0.7777777777777778,
              "#fb9f3a"
             ],
             [
              0.8888888888888888,
              "#fdca26"
             ],
             [
              1,
              "#f0f921"
             ]
            ],
            "type": "histogram2d"
           }
          ],
          "histogram2dcontour": [
           {
            "colorbar": {
             "outlinewidth": 0,
             "ticks": ""
            },
            "colorscale": [
             [
              0,
              "#0d0887"
             ],
             [
              0.1111111111111111,
              "#46039f"
             ],
             [
              0.2222222222222222,
              "#7201a8"
             ],
             [
              0.3333333333333333,
              "#9c179e"
             ],
             [
              0.4444444444444444,
              "#bd3786"
             ],
             [
              0.5555555555555556,
              "#d8576b"
             ],
             [
              0.6666666666666666,
              "#ed7953"
             ],
             [
              0.7777777777777778,
              "#fb9f3a"
             ],
             [
              0.8888888888888888,
              "#fdca26"
             ],
             [
              1,
              "#f0f921"
             ]
            ],
            "type": "histogram2dcontour"
           }
          ],
          "mesh3d": [
           {
            "colorbar": {
             "outlinewidth": 0,
             "ticks": ""
            },
            "type": "mesh3d"
           }
          ],
          "parcoords": [
           {
            "line": {
             "colorbar": {
              "outlinewidth": 0,
              "ticks": ""
             }
            },
            "type": "parcoords"
           }
          ],
          "pie": [
           {
            "automargin": true,
            "type": "pie"
           }
          ],
          "scatter": [
           {
            "fillpattern": {
             "fillmode": "overlay",
             "size": 10,
             "solidity": 0.2
            },
            "type": "scatter"
           }
          ],
          "scatter3d": [
           {
            "line": {
             "colorbar": {
              "outlinewidth": 0,
              "ticks": ""
             }
            },
            "marker": {
             "colorbar": {
              "outlinewidth": 0,
              "ticks": ""
             }
            },
            "type": "scatter3d"
           }
          ],
          "scattercarpet": [
           {
            "marker": {
             "colorbar": {
              "outlinewidth": 0,
              "ticks": ""
             }
            },
            "type": "scattercarpet"
           }
          ],
          "scattergeo": [
           {
            "marker": {
             "colorbar": {
              "outlinewidth": 0,
              "ticks": ""
             }
            },
            "type": "scattergeo"
           }
          ],
          "scattergl": [
           {
            "marker": {
             "colorbar": {
              "outlinewidth": 0,
              "ticks": ""
             }
            },
            "type": "scattergl"
           }
          ],
          "scattermapbox": [
           {
            "marker": {
             "colorbar": {
              "outlinewidth": 0,
              "ticks": ""
             }
            },
            "type": "scattermapbox"
           }
          ],
          "scatterpolar": [
           {
            "marker": {
             "colorbar": {
              "outlinewidth": 0,
              "ticks": ""
             }
            },
            "type": "scatterpolar"
           }
          ],
          "scatterpolargl": [
           {
            "marker": {
             "colorbar": {
              "outlinewidth": 0,
              "ticks": ""
             }
            },
            "type": "scatterpolargl"
           }
          ],
          "scatterternary": [
           {
            "marker": {
             "colorbar": {
              "outlinewidth": 0,
              "ticks": ""
             }
            },
            "type": "scatterternary"
           }
          ],
          "surface": [
           {
            "colorbar": {
             "outlinewidth": 0,
             "ticks": ""
            },
            "colorscale": [
             [
              0,
              "#0d0887"
             ],
             [
              0.1111111111111111,
              "#46039f"
             ],
             [
              0.2222222222222222,
              "#7201a8"
             ],
             [
              0.3333333333333333,
              "#9c179e"
             ],
             [
              0.4444444444444444,
              "#bd3786"
             ],
             [
              0.5555555555555556,
              "#d8576b"
             ],
             [
              0.6666666666666666,
              "#ed7953"
             ],
             [
              0.7777777777777778,
              "#fb9f3a"
             ],
             [
              0.8888888888888888,
              "#fdca26"
             ],
             [
              1,
              "#f0f921"
             ]
            ],
            "type": "surface"
           }
          ],
          "table": [
           {
            "cells": {
             "fill": {
              "color": "#EBF0F8"
             },
             "line": {
              "color": "white"
             }
            },
            "header": {
             "fill": {
              "color": "#C8D4E3"
             },
             "line": {
              "color": "white"
             }
            },
            "type": "table"
           }
          ]
         },
         "layout": {
          "annotationdefaults": {
           "arrowcolor": "#2a3f5f",
           "arrowhead": 0,
           "arrowwidth": 1
          },
          "autotypenumbers": "strict",
          "coloraxis": {
           "colorbar": {
            "outlinewidth": 0,
            "ticks": ""
           }
          },
          "colorscale": {
           "diverging": [
            [
             0,
             "#8e0152"
            ],
            [
             0.1,
             "#c51b7d"
            ],
            [
             0.2,
             "#de77ae"
            ],
            [
             0.3,
             "#f1b6da"
            ],
            [
             0.4,
             "#fde0ef"
            ],
            [
             0.5,
             "#f7f7f7"
            ],
            [
             0.6,
             "#e6f5d0"
            ],
            [
             0.7,
             "#b8e186"
            ],
            [
             0.8,
             "#7fbc41"
            ],
            [
             0.9,
             "#4d9221"
            ],
            [
             1,
             "#276419"
            ]
           ],
           "sequential": [
            [
             0,
             "#0d0887"
            ],
            [
             0.1111111111111111,
             "#46039f"
            ],
            [
             0.2222222222222222,
             "#7201a8"
            ],
            [
             0.3333333333333333,
             "#9c179e"
            ],
            [
             0.4444444444444444,
             "#bd3786"
            ],
            [
             0.5555555555555556,
             "#d8576b"
            ],
            [
             0.6666666666666666,
             "#ed7953"
            ],
            [
             0.7777777777777778,
             "#fb9f3a"
            ],
            [
             0.8888888888888888,
             "#fdca26"
            ],
            [
             1,
             "#f0f921"
            ]
           ],
           "sequentialminus": [
            [
             0,
             "#0d0887"
            ],
            [
             0.1111111111111111,
             "#46039f"
            ],
            [
             0.2222222222222222,
             "#7201a8"
            ],
            [
             0.3333333333333333,
             "#9c179e"
            ],
            [
             0.4444444444444444,
             "#bd3786"
            ],
            [
             0.5555555555555556,
             "#d8576b"
            ],
            [
             0.6666666666666666,
             "#ed7953"
            ],
            [
             0.7777777777777778,
             "#fb9f3a"
            ],
            [
             0.8888888888888888,
             "#fdca26"
            ],
            [
             1,
             "#f0f921"
            ]
           ]
          },
          "colorway": [
           "#636efa",
           "#EF553B",
           "#00cc96",
           "#ab63fa",
           "#FFA15A",
           "#19d3f3",
           "#FF6692",
           "#B6E880",
           "#FF97FF",
           "#FECB52"
          ],
          "font": {
           "color": "#2a3f5f"
          },
          "geo": {
           "bgcolor": "white",
           "lakecolor": "white",
           "landcolor": "#E5ECF6",
           "showlakes": true,
           "showland": true,
           "subunitcolor": "white"
          },
          "hoverlabel": {
           "align": "left"
          },
          "hovermode": "closest",
          "mapbox": {
           "style": "light"
          },
          "paper_bgcolor": "white",
          "plot_bgcolor": "#E5ECF6",
          "polar": {
           "angularaxis": {
            "gridcolor": "white",
            "linecolor": "white",
            "ticks": ""
           },
           "bgcolor": "#E5ECF6",
           "radialaxis": {
            "gridcolor": "white",
            "linecolor": "white",
            "ticks": ""
           }
          },
          "scene": {
           "xaxis": {
            "backgroundcolor": "#E5ECF6",
            "gridcolor": "white",
            "gridwidth": 2,
            "linecolor": "white",
            "showbackground": true,
            "ticks": "",
            "zerolinecolor": "white"
           },
           "yaxis": {
            "backgroundcolor": "#E5ECF6",
            "gridcolor": "white",
            "gridwidth": 2,
            "linecolor": "white",
            "showbackground": true,
            "ticks": "",
            "zerolinecolor": "white"
           },
           "zaxis": {
            "backgroundcolor": "#E5ECF6",
            "gridcolor": "white",
            "gridwidth": 2,
            "linecolor": "white",
            "showbackground": true,
            "ticks": "",
            "zerolinecolor": "white"
           }
          },
          "shapedefaults": {
           "line": {
            "color": "#2a3f5f"
           }
          },
          "ternary": {
           "aaxis": {
            "gridcolor": "white",
            "linecolor": "white",
            "ticks": ""
           },
           "baxis": {
            "gridcolor": "white",
            "linecolor": "white",
            "ticks": ""
           },
           "bgcolor": "#E5ECF6",
           "caxis": {
            "gridcolor": "white",
            "linecolor": "white",
            "ticks": ""
           }
          },
          "title": {
           "x": 0.05
          },
          "xaxis": {
           "automargin": true,
           "gridcolor": "white",
           "linecolor": "white",
           "ticks": "",
           "title": {
            "standoff": 15
           },
           "zerolinecolor": "white",
           "zerolinewidth": 2
          },
          "yaxis": {
           "automargin": true,
           "gridcolor": "white",
           "linecolor": "white",
           "ticks": "",
           "title": {
            "standoff": 15
           },
           "zerolinecolor": "white",
           "zerolinewidth": 2
          }
         }
        },
        "width": 500,
        "xaxis": {
         "anchor": "y",
         "domain": [
          0,
          1
         ],
         "title": {
          "text": "Category"
         }
        },
        "yaxis": {
         "anchor": "x",
         "domain": [
          0,
          1
         ],
         "title": {
          "text": "Popularity"
         }
        }
       }
      }
     },
     "metadata": {},
     "output_type": "display_data"
    }
   ],
   "source": [
    "from pandas._libs.tslibs.offsets import delta_to_tick\n",
    "import plotly.express as px\n",
    "#fig = px.scatter(df, x = \"Time Commitment\", y = \"Popularity\", size = \"Size\", color = \"Active Level\", size_max = 10)\n",
    "fig = px.scatter(df, x = \"Category\", y = \"Popularity\", size = \"Size\", hover_name = \"RSO Name\", color = \"How Active They Are\", size_max = 10)\n",
    "fig.update_traces(marker=dict(sizemode='diameter'))\n",
    "fig.update_layout(\n",
    "    height=500,\n",
    "    width=500\n",
    ")\n",
    "fig.show()"
   ]
  },
  {
   "cell_type": "code",
   "execution_count": 4,
   "metadata": {},
   "outputs": [
    {
     "name": "stdout",
     "output_type": "stream",
     "text": [
      "Filtered DataFrame:\n",
      "                   RSO Name  Category Social/Professional  Size  \\\n",
      "0                Chess Club  Academic        Professional    30   \n",
      "1          Photography Club      Arts              Social    25   \n",
      "2               Soccer Club    Sports              Social    40   \n",
      "3             Drama Society      Arts              Social    50   \n",
      "4          Mathematics Club  Academic        Professional    20   \n",
      "..                      ...       ...                 ...   ...   \n",
      "77          Philosophy Club  Academic        Professional    20   \n",
      "78                Golf Club    Sports              Social    30   \n",
      "79   Computer Graphics Club      Arts              Social    35   \n",
      "80  Creative Coding Society  Academic        Professional    25   \n",
      "81         Art Therapy Club      Arts              Social    20   \n",
      "\n",
      "    Time Commitment  How Active They Are  Popularity                 Majors  \\\n",
      "0                 3                    8           6                Science   \n",
      "1                 4                    7           5        Performing arts   \n",
      "2                 5                    9           8  Athletic & Recreation   \n",
      "3                 6                    7           7        Performing arts   \n",
      "4                 3                    8           6                Science   \n",
      "..              ...                  ...         ...                    ...   \n",
      "77                3                    7           6                Science   \n",
      "78                3                    7           6  Athletic & Recreation   \n",
      "79                4                    8           7        Performing arts   \n",
      "80                4                    7           7       Computer Science   \n",
      "81                3                    7           6        Performing arts   \n",
      "\n",
      "    userPreference  \n",
      "0              150  \n",
      "1              100  \n",
      "2              100  \n",
      "3              100  \n",
      "4              150  \n",
      "..             ...  \n",
      "77             150  \n",
      "78             100  \n",
      "79             100  \n",
      "80             150  \n",
      "81             100  \n",
      "\n",
      "[82 rows x 9 columns]\n"
     ]
    },
    {
     "data": {
      "application/vnd.plotly.v1+json": {
       "config": {
        "plotlyServerURL": "https://plot.ly"
       },
       "data": [
        {
         "hovertemplate": "<b>%{hovertext}</b><br><br>Popularity=%{x}<br>userPreference=%{y}<br>Size=%{marker.size}<br>How Active They Are=%{marker.color}<extra></extra>",
         "hovertext": [
          "Chess Club",
          "Photography Club",
          "Soccer Club",
          "Drama Society",
          "Mathematics Club",
          "Environmental Club",
          "Debate Team",
          "Music Ensemble",
          "Volleyball Club",
          "Red Cross Society",
          "Astronomy Club",
          "Cycling Club",
          "Film Society",
          "Computer Science Club",
          "Basketball Club",
          "Art Club",
          "Engineering Club",
          "Swimming Club",
          "Literary Society",
          "Marketing Club",
          "Gardening Club",
          "Dance Team",
          "History Club",
          "Football Club",
          "Physics Club",
          "International Students Club",
          "Model United Nations",
          "Running Club",
          "Cooking Club",
          "Robotics Club",
          "Tennis Club",
          "Animal Rights Club",
          "Psychology Club",
          "Science Fiction Society",
          "Ultimate Frisbee Club",
          "Amnesty International",
          "Art History Club",
          "Investment Club",
          "Martial Arts Club",
          "Fashion Club",
          "Geology Club",
          "Hiking Club",
          "Guitar Club",
          "Entrepreneurship Club",
          "Scuba Diving Club",
          "Chemistry Club",
          "Yoga Club",
          "Political Science Club",
          "E-Sports Club",
          "Creative Writing Society",
          "Aeronautics Club",
          "Tabletop Games Club",
          "Rugby Club",
          "Pre-Med Society",
          "Student Government",
          "Sustainability Club",
          "Acapella Group",
          "Astronomy Club",
          "Rowing Club",
          "Coding Club",
          "Fashion Design Club",
          "Debate Club",
          "Badminton Club",
          "Art History Club",
          "Rock Climbing Club",
          "Model Rocketry Club",
          "Student Newspaper",
          "Hiking Club",
          "History Club",
          "Music Production Club",
          "Eco Warriors Club",
          "Film Club",
          "Auto Enthusiasts Club",
          "Health and Fitness Club",
          "Chemical Engineering Society",
          "Chess Club",
          "Gaming Club",
          "Philosophy Club",
          "Golf Club",
          "Computer Graphics Club",
          "Creative Coding Society",
          "Art Therapy Club"
         ],
         "legendgroup": "",
         "marker": {
          "color": [
           8,
           7,
           9,
           7,
           8,
           7,
           8,
           8,
           9,
           7,
           8,
           9,
           7,
           8,
           9,
           7,
           8,
           9,
           7,
           9,
           7,
           8,
           8,
           9,
           8,
           7,
           8,
           9,
           7,
           8,
           9,
           7,
           8,
           7,
           9,
           7,
           8,
           8,
           9,
           7,
           8,
           9,
           7,
           9,
           7,
           8,
           9,
           8,
           9,
           8,
           8,
           7,
           9,
           8,
           9,
           7,
           7,
           8,
           9,
           8,
           7,
           8,
           7,
           8,
           9,
           7,
           7,
           8,
           7,
           9,
           8,
           8,
           7,
           7,
           8,
           8,
           9,
           7,
           7,
           8,
           7,
           7
          ],
          "coloraxis": "coloraxis",
          "size": [
           30,
           25,
           40,
           50,
           20,
           35,
           25,
           30,
           35,
           40,
           15,
           50,
           30,
           40,
           45,
           20,
           25,
           30,
           20,
           30,
           25,
           40,
           20,
           55,
           25,
           60,
           40,
           45,
           30,
           30,
           35,
           25,
           30,
           20,
           35,
           25,
           20,
           35,
           40,
           30,
           20,
           30,
           25,
           40,
           30,
           20,
           35,
           30,
           45,
           40,
           25,
           30,
           45,
           35,
           50,
           40,
           20,
           15,
           35,
           30,
           25,
           30,
           20,
           25,
           40,
           30,
           20,
           30,
           25,
           40,
           35,
           25,
           20,
           30,
           30,
           25,
           40,
           20,
           30,
           35,
           25,
           20
          ],
          "sizemode": "diameter",
          "sizeref": 0.6,
          "symbol": "circle"
         },
         "mode": "markers",
         "name": "",
         "opacity": 0.75,
         "orientation": "v",
         "showlegend": false,
         "type": "scatter",
         "x": [
          6,
          5,
          8,
          7,
          6,
          6,
          7,
          7,
          8,
          7,
          5,
          8,
          6,
          8,
          8,
          6,
          7,
          7,
          5,
          8,
          6,
          7,
          6,
          9,
          7,
          8,
          7,
          8,
          6,
          7,
          8,
          6,
          7,
          6,
          8,
          6,
          6,
          7,
          8,
          7,
          6,
          7,
          5,
          8,
          6,
          6,
          8,
          7,
          8,
          7,
          7,
          7,
          8,
          7,
          9,
          7,
          6,
          5,
          8,
          7,
          5,
          8,
          6,
          7,
          7,
          7,
          6,
          7,
          6,
          8,
          7,
          7,
          6,
          6,
          7,
          7,
          8,
          6,
          6,
          7,
          7,
          6
         ],
         "xaxis": "x",
         "y": [
          150,
          100,
          100,
          100,
          150,
          100,
          150,
          100,
          100,
          100,
          250,
          100,
          100,
          150,
          100,
          100,
          350,
          100,
          0,
          150,
          100,
          100,
          250,
          100,
          150,
          100,
          150,
          100,
          100,
          350,
          100,
          100,
          250,
          100,
          100,
          0,
          100,
          150,
          100,
          100,
          150,
          100,
          100,
          0,
          100,
          150,
          100,
          250,
          100,
          100,
          350,
          100,
          100,
          150,
          0,
          100,
          100,
          250,
          100,
          150,
          100,
          150,
          100,
          100,
          100,
          150,
          0,
          100,
          250,
          100,
          100,
          100,
          100,
          100,
          350,
          150,
          100,
          150,
          100,
          100,
          150,
          100
         ],
         "yaxis": "y"
        }
       ],
       "layout": {
        "coloraxis": {
         "colorbar": {
          "title": {
           "text": "How Active They Are"
          }
         },
         "colorscale": [
          [
           0,
           "#0d0887"
          ],
          [
           0.1111111111111111,
           "#46039f"
          ],
          [
           0.2222222222222222,
           "#7201a8"
          ],
          [
           0.3333333333333333,
           "#9c179e"
          ],
          [
           0.4444444444444444,
           "#bd3786"
          ],
          [
           0.5555555555555556,
           "#d8576b"
          ],
          [
           0.6666666666666666,
           "#ed7953"
          ],
          [
           0.7777777777777778,
           "#fb9f3a"
          ],
          [
           0.8888888888888888,
           "#fdca26"
          ],
          [
           1,
           "#f0f921"
          ]
         ]
        },
        "height": 500,
        "legend": {
         "itemsizing": "constant",
         "tracegroupgap": 0
        },
        "margin": {
         "t": 60
        },
        "template": {
         "data": {
          "bar": [
           {
            "error_x": {
             "color": "#2a3f5f"
            },
            "error_y": {
             "color": "#2a3f5f"
            },
            "marker": {
             "line": {
              "color": "#E5ECF6",
              "width": 0.5
             },
             "pattern": {
              "fillmode": "overlay",
              "size": 10,
              "solidity": 0.2
             }
            },
            "type": "bar"
           }
          ],
          "barpolar": [
           {
            "marker": {
             "line": {
              "color": "#E5ECF6",
              "width": 0.5
             },
             "pattern": {
              "fillmode": "overlay",
              "size": 10,
              "solidity": 0.2
             }
            },
            "type": "barpolar"
           }
          ],
          "carpet": [
           {
            "aaxis": {
             "endlinecolor": "#2a3f5f",
             "gridcolor": "white",
             "linecolor": "white",
             "minorgridcolor": "white",
             "startlinecolor": "#2a3f5f"
            },
            "baxis": {
             "endlinecolor": "#2a3f5f",
             "gridcolor": "white",
             "linecolor": "white",
             "minorgridcolor": "white",
             "startlinecolor": "#2a3f5f"
            },
            "type": "carpet"
           }
          ],
          "choropleth": [
           {
            "colorbar": {
             "outlinewidth": 0,
             "ticks": ""
            },
            "type": "choropleth"
           }
          ],
          "contour": [
           {
            "colorbar": {
             "outlinewidth": 0,
             "ticks": ""
            },
            "colorscale": [
             [
              0,
              "#0d0887"
             ],
             [
              0.1111111111111111,
              "#46039f"
             ],
             [
              0.2222222222222222,
              "#7201a8"
             ],
             [
              0.3333333333333333,
              "#9c179e"
             ],
             [
              0.4444444444444444,
              "#bd3786"
             ],
             [
              0.5555555555555556,
              "#d8576b"
             ],
             [
              0.6666666666666666,
              "#ed7953"
             ],
             [
              0.7777777777777778,
              "#fb9f3a"
             ],
             [
              0.8888888888888888,
              "#fdca26"
             ],
             [
              1,
              "#f0f921"
             ]
            ],
            "type": "contour"
           }
          ],
          "contourcarpet": [
           {
            "colorbar": {
             "outlinewidth": 0,
             "ticks": ""
            },
            "type": "contourcarpet"
           }
          ],
          "heatmap": [
           {
            "colorbar": {
             "outlinewidth": 0,
             "ticks": ""
            },
            "colorscale": [
             [
              0,
              "#0d0887"
             ],
             [
              0.1111111111111111,
              "#46039f"
             ],
             [
              0.2222222222222222,
              "#7201a8"
             ],
             [
              0.3333333333333333,
              "#9c179e"
             ],
             [
              0.4444444444444444,
              "#bd3786"
             ],
             [
              0.5555555555555556,
              "#d8576b"
             ],
             [
              0.6666666666666666,
              "#ed7953"
             ],
             [
              0.7777777777777778,
              "#fb9f3a"
             ],
             [
              0.8888888888888888,
              "#fdca26"
             ],
             [
              1,
              "#f0f921"
             ]
            ],
            "type": "heatmap"
           }
          ],
          "heatmapgl": [
           {
            "colorbar": {
             "outlinewidth": 0,
             "ticks": ""
            },
            "colorscale": [
             [
              0,
              "#0d0887"
             ],
             [
              0.1111111111111111,
              "#46039f"
             ],
             [
              0.2222222222222222,
              "#7201a8"
             ],
             [
              0.3333333333333333,
              "#9c179e"
             ],
             [
              0.4444444444444444,
              "#bd3786"
             ],
             [
              0.5555555555555556,
              "#d8576b"
             ],
             [
              0.6666666666666666,
              "#ed7953"
             ],
             [
              0.7777777777777778,
              "#fb9f3a"
             ],
             [
              0.8888888888888888,
              "#fdca26"
             ],
             [
              1,
              "#f0f921"
             ]
            ],
            "type": "heatmapgl"
           }
          ],
          "histogram": [
           {
            "marker": {
             "pattern": {
              "fillmode": "overlay",
              "size": 10,
              "solidity": 0.2
             }
            },
            "type": "histogram"
           }
          ],
          "histogram2d": [
           {
            "colorbar": {
             "outlinewidth": 0,
             "ticks": ""
            },
            "colorscale": [
             [
              0,
              "#0d0887"
             ],
             [
              0.1111111111111111,
              "#46039f"
             ],
             [
              0.2222222222222222,
              "#7201a8"
             ],
             [
              0.3333333333333333,
              "#9c179e"
             ],
             [
              0.4444444444444444,
              "#bd3786"
             ],
             [
              0.5555555555555556,
              "#d8576b"
             ],
             [
              0.6666666666666666,
              "#ed7953"
             ],
             [
              0.7777777777777778,
              "#fb9f3a"
             ],
             [
              0.8888888888888888,
              "#fdca26"
             ],
             [
              1,
              "#f0f921"
             ]
            ],
            "type": "histogram2d"
           }
          ],
          "histogram2dcontour": [
           {
            "colorbar": {
             "outlinewidth": 0,
             "ticks": ""
            },
            "colorscale": [
             [
              0,
              "#0d0887"
             ],
             [
              0.1111111111111111,
              "#46039f"
             ],
             [
              0.2222222222222222,
              "#7201a8"
             ],
             [
              0.3333333333333333,
              "#9c179e"
             ],
             [
              0.4444444444444444,
              "#bd3786"
             ],
             [
              0.5555555555555556,
              "#d8576b"
             ],
             [
              0.6666666666666666,
              "#ed7953"
             ],
             [
              0.7777777777777778,
              "#fb9f3a"
             ],
             [
              0.8888888888888888,
              "#fdca26"
             ],
             [
              1,
              "#f0f921"
             ]
            ],
            "type": "histogram2dcontour"
           }
          ],
          "mesh3d": [
           {
            "colorbar": {
             "outlinewidth": 0,
             "ticks": ""
            },
            "type": "mesh3d"
           }
          ],
          "parcoords": [
           {
            "line": {
             "colorbar": {
              "outlinewidth": 0,
              "ticks": ""
             }
            },
            "type": "parcoords"
           }
          ],
          "pie": [
           {
            "automargin": true,
            "type": "pie"
           }
          ],
          "scatter": [
           {
            "fillpattern": {
             "fillmode": "overlay",
             "size": 10,
             "solidity": 0.2
            },
            "type": "scatter"
           }
          ],
          "scatter3d": [
           {
            "line": {
             "colorbar": {
              "outlinewidth": 0,
              "ticks": ""
             }
            },
            "marker": {
             "colorbar": {
              "outlinewidth": 0,
              "ticks": ""
             }
            },
            "type": "scatter3d"
           }
          ],
          "scattercarpet": [
           {
            "marker": {
             "colorbar": {
              "outlinewidth": 0,
              "ticks": ""
             }
            },
            "type": "scattercarpet"
           }
          ],
          "scattergeo": [
           {
            "marker": {
             "colorbar": {
              "outlinewidth": 0,
              "ticks": ""
             }
            },
            "type": "scattergeo"
           }
          ],
          "scattergl": [
           {
            "marker": {
             "colorbar": {
              "outlinewidth": 0,
              "ticks": ""
             }
            },
            "type": "scattergl"
           }
          ],
          "scattermapbox": [
           {
            "marker": {
             "colorbar": {
              "outlinewidth": 0,
              "ticks": ""
             }
            },
            "type": "scattermapbox"
           }
          ],
          "scatterpolar": [
           {
            "marker": {
             "colorbar": {
              "outlinewidth": 0,
              "ticks": ""
             }
            },
            "type": "scatterpolar"
           }
          ],
          "scatterpolargl": [
           {
            "marker": {
             "colorbar": {
              "outlinewidth": 0,
              "ticks": ""
             }
            },
            "type": "scatterpolargl"
           }
          ],
          "scatterternary": [
           {
            "marker": {
             "colorbar": {
              "outlinewidth": 0,
              "ticks": ""
             }
            },
            "type": "scatterternary"
           }
          ],
          "surface": [
           {
            "colorbar": {
             "outlinewidth": 0,
             "ticks": ""
            },
            "colorscale": [
             [
              0,
              "#0d0887"
             ],
             [
              0.1111111111111111,
              "#46039f"
             ],
             [
              0.2222222222222222,
              "#7201a8"
             ],
             [
              0.3333333333333333,
              "#9c179e"
             ],
             [
              0.4444444444444444,
              "#bd3786"
             ],
             [
              0.5555555555555556,
              "#d8576b"
             ],
             [
              0.6666666666666666,
              "#ed7953"
             ],
             [
              0.7777777777777778,
              "#fb9f3a"
             ],
             [
              0.8888888888888888,
              "#fdca26"
             ],
             [
              1,
              "#f0f921"
             ]
            ],
            "type": "surface"
           }
          ],
          "table": [
           {
            "cells": {
             "fill": {
              "color": "#EBF0F8"
             },
             "line": {
              "color": "white"
             }
            },
            "header": {
             "fill": {
              "color": "#C8D4E3"
             },
             "line": {
              "color": "white"
             }
            },
            "type": "table"
           }
          ]
         },
         "layout": {
          "annotationdefaults": {
           "arrowcolor": "#2a3f5f",
           "arrowhead": 0,
           "arrowwidth": 1
          },
          "autotypenumbers": "strict",
          "coloraxis": {
           "colorbar": {
            "outlinewidth": 0,
            "ticks": ""
           }
          },
          "colorscale": {
           "diverging": [
            [
             0,
             "#8e0152"
            ],
            [
             0.1,
             "#c51b7d"
            ],
            [
             0.2,
             "#de77ae"
            ],
            [
             0.3,
             "#f1b6da"
            ],
            [
             0.4,
             "#fde0ef"
            ],
            [
             0.5,
             "#f7f7f7"
            ],
            [
             0.6,
             "#e6f5d0"
            ],
            [
             0.7,
             "#b8e186"
            ],
            [
             0.8,
             "#7fbc41"
            ],
            [
             0.9,
             "#4d9221"
            ],
            [
             1,
             "#276419"
            ]
           ],
           "sequential": [
            [
             0,
             "#0d0887"
            ],
            [
             0.1111111111111111,
             "#46039f"
            ],
            [
             0.2222222222222222,
             "#7201a8"
            ],
            [
             0.3333333333333333,
             "#9c179e"
            ],
            [
             0.4444444444444444,
             "#bd3786"
            ],
            [
             0.5555555555555556,
             "#d8576b"
            ],
            [
             0.6666666666666666,
             "#ed7953"
            ],
            [
             0.7777777777777778,
             "#fb9f3a"
            ],
            [
             0.8888888888888888,
             "#fdca26"
            ],
            [
             1,
             "#f0f921"
            ]
           ],
           "sequentialminus": [
            [
             0,
             "#0d0887"
            ],
            [
             0.1111111111111111,
             "#46039f"
            ],
            [
             0.2222222222222222,
             "#7201a8"
            ],
            [
             0.3333333333333333,
             "#9c179e"
            ],
            [
             0.4444444444444444,
             "#bd3786"
            ],
            [
             0.5555555555555556,
             "#d8576b"
            ],
            [
             0.6666666666666666,
             "#ed7953"
            ],
            [
             0.7777777777777778,
             "#fb9f3a"
            ],
            [
             0.8888888888888888,
             "#fdca26"
            ],
            [
             1,
             "#f0f921"
            ]
           ]
          },
          "colorway": [
           "#636efa",
           "#EF553B",
           "#00cc96",
           "#ab63fa",
           "#FFA15A",
           "#19d3f3",
           "#FF6692",
           "#B6E880",
           "#FF97FF",
           "#FECB52"
          ],
          "font": {
           "color": "#2a3f5f"
          },
          "geo": {
           "bgcolor": "white",
           "lakecolor": "white",
           "landcolor": "#E5ECF6",
           "showlakes": true,
           "showland": true,
           "subunitcolor": "white"
          },
          "hoverlabel": {
           "align": "left"
          },
          "hovermode": "closest",
          "mapbox": {
           "style": "light"
          },
          "paper_bgcolor": "white",
          "plot_bgcolor": "#E5ECF6",
          "polar": {
           "angularaxis": {
            "gridcolor": "white",
            "linecolor": "white",
            "ticks": ""
           },
           "bgcolor": "#E5ECF6",
           "radialaxis": {
            "gridcolor": "white",
            "linecolor": "white",
            "ticks": ""
           }
          },
          "scene": {
           "xaxis": {
            "backgroundcolor": "#E5ECF6",
            "gridcolor": "white",
            "gridwidth": 2,
            "linecolor": "white",
            "showbackground": true,
            "ticks": "",
            "zerolinecolor": "white"
           },
           "yaxis": {
            "backgroundcolor": "#E5ECF6",
            "gridcolor": "white",
            "gridwidth": 2,
            "linecolor": "white",
            "showbackground": true,
            "ticks": "",
            "zerolinecolor": "white"
           },
           "zaxis": {
            "backgroundcolor": "#E5ECF6",
            "gridcolor": "white",
            "gridwidth": 2,
            "linecolor": "white",
            "showbackground": true,
            "ticks": "",
            "zerolinecolor": "white"
           }
          },
          "shapedefaults": {
           "line": {
            "color": "#2a3f5f"
           }
          },
          "ternary": {
           "aaxis": {
            "gridcolor": "white",
            "linecolor": "white",
            "ticks": ""
           },
           "baxis": {
            "gridcolor": "white",
            "linecolor": "white",
            "ticks": ""
           },
           "bgcolor": "#E5ECF6",
           "caxis": {
            "gridcolor": "white",
            "linecolor": "white",
            "ticks": ""
           }
          },
          "title": {
           "x": 0.05
          },
          "xaxis": {
           "automargin": true,
           "gridcolor": "white",
           "linecolor": "white",
           "ticks": "",
           "title": {
            "standoff": 15
           },
           "zerolinecolor": "white",
           "zerolinewidth": 2
          },
          "yaxis": {
           "automargin": true,
           "gridcolor": "white",
           "linecolor": "white",
           "ticks": "",
           "title": {
            "standoff": 15
           },
           "zerolinecolor": "white",
           "zerolinewidth": 2
          }
         }
        },
        "width": 500,
        "xaxis": {
         "anchor": "y",
         "domain": [
          0,
          1
         ],
         "title": {
          "text": "Popularity"
         }
        },
        "yaxis": {
         "anchor": "x",
         "domain": [
          0,
          1
         ],
         "title": {
          "text": "userPreference"
         }
        }
       }
      }
     },
     "metadata": {},
     "output_type": "display_data"
    },
    {
     "data": {
      "text/html": [
       "<div>\n",
       "<style scoped>\n",
       "    .dataframe tbody tr th:only-of-type {\n",
       "        vertical-align: middle;\n",
       "    }\n",
       "\n",
       "    .dataframe tbody tr th {\n",
       "        vertical-align: top;\n",
       "    }\n",
       "\n",
       "    .dataframe thead th {\n",
       "        text-align: right;\n",
       "    }\n",
       "</style>\n",
       "<table border=\"1\" class=\"dataframe\">\n",
       "  <thead>\n",
       "    <tr style=\"text-align: right;\">\n",
       "      <th></th>\n",
       "      <th>RSO Name</th>\n",
       "      <th>Category</th>\n",
       "      <th>Social/Professional</th>\n",
       "      <th>Size</th>\n",
       "      <th>Time Commitment</th>\n",
       "      <th>How Active They Are</th>\n",
       "      <th>Popularity</th>\n",
       "      <th>Majors</th>\n",
       "      <th>userPreference</th>\n",
       "    </tr>\n",
       "  </thead>\n",
       "  <tbody>\n",
       "    <tr>\n",
       "      <th>0</th>\n",
       "      <td>Chess Club</td>\n",
       "      <td>Academic</td>\n",
       "      <td>Professional</td>\n",
       "      <td>30</td>\n",
       "      <td>3</td>\n",
       "      <td>8</td>\n",
       "      <td>6</td>\n",
       "      <td>Science</td>\n",
       "      <td>150</td>\n",
       "    </tr>\n",
       "    <tr>\n",
       "      <th>1</th>\n",
       "      <td>Photography Club</td>\n",
       "      <td>Arts</td>\n",
       "      <td>Social</td>\n",
       "      <td>25</td>\n",
       "      <td>4</td>\n",
       "      <td>7</td>\n",
       "      <td>5</td>\n",
       "      <td>Performing arts</td>\n",
       "      <td>100</td>\n",
       "    </tr>\n",
       "    <tr>\n",
       "      <th>2</th>\n",
       "      <td>Soccer Club</td>\n",
       "      <td>Sports</td>\n",
       "      <td>Social</td>\n",
       "      <td>40</td>\n",
       "      <td>5</td>\n",
       "      <td>9</td>\n",
       "      <td>8</td>\n",
       "      <td>Athletic &amp; Recreation</td>\n",
       "      <td>100</td>\n",
       "    </tr>\n",
       "    <tr>\n",
       "      <th>3</th>\n",
       "      <td>Drama Society</td>\n",
       "      <td>Arts</td>\n",
       "      <td>Social</td>\n",
       "      <td>50</td>\n",
       "      <td>6</td>\n",
       "      <td>7</td>\n",
       "      <td>7</td>\n",
       "      <td>Performing arts</td>\n",
       "      <td>100</td>\n",
       "    </tr>\n",
       "    <tr>\n",
       "      <th>4</th>\n",
       "      <td>Mathematics Club</td>\n",
       "      <td>Academic</td>\n",
       "      <td>Professional</td>\n",
       "      <td>20</td>\n",
       "      <td>3</td>\n",
       "      <td>8</td>\n",
       "      <td>6</td>\n",
       "      <td>Science</td>\n",
       "      <td>150</td>\n",
       "    </tr>\n",
       "    <tr>\n",
       "      <th>...</th>\n",
       "      <td>...</td>\n",
       "      <td>...</td>\n",
       "      <td>...</td>\n",
       "      <td>...</td>\n",
       "      <td>...</td>\n",
       "      <td>...</td>\n",
       "      <td>...</td>\n",
       "      <td>...</td>\n",
       "      <td>...</td>\n",
       "    </tr>\n",
       "    <tr>\n",
       "      <th>77</th>\n",
       "      <td>Philosophy Club</td>\n",
       "      <td>Academic</td>\n",
       "      <td>Professional</td>\n",
       "      <td>20</td>\n",
       "      <td>3</td>\n",
       "      <td>7</td>\n",
       "      <td>6</td>\n",
       "      <td>Science</td>\n",
       "      <td>150</td>\n",
       "    </tr>\n",
       "    <tr>\n",
       "      <th>78</th>\n",
       "      <td>Golf Club</td>\n",
       "      <td>Sports</td>\n",
       "      <td>Social</td>\n",
       "      <td>30</td>\n",
       "      <td>3</td>\n",
       "      <td>7</td>\n",
       "      <td>6</td>\n",
       "      <td>Athletic &amp; Recreation</td>\n",
       "      <td>100</td>\n",
       "    </tr>\n",
       "    <tr>\n",
       "      <th>79</th>\n",
       "      <td>Computer Graphics Club</td>\n",
       "      <td>Arts</td>\n",
       "      <td>Social</td>\n",
       "      <td>35</td>\n",
       "      <td>4</td>\n",
       "      <td>8</td>\n",
       "      <td>7</td>\n",
       "      <td>Performing arts</td>\n",
       "      <td>100</td>\n",
       "    </tr>\n",
       "    <tr>\n",
       "      <th>80</th>\n",
       "      <td>Creative Coding Society</td>\n",
       "      <td>Academic</td>\n",
       "      <td>Professional</td>\n",
       "      <td>25</td>\n",
       "      <td>4</td>\n",
       "      <td>7</td>\n",
       "      <td>7</td>\n",
       "      <td>Computer Science</td>\n",
       "      <td>150</td>\n",
       "    </tr>\n",
       "    <tr>\n",
       "      <th>81</th>\n",
       "      <td>Art Therapy Club</td>\n",
       "      <td>Arts</td>\n",
       "      <td>Social</td>\n",
       "      <td>20</td>\n",
       "      <td>3</td>\n",
       "      <td>7</td>\n",
       "      <td>6</td>\n",
       "      <td>Performing arts</td>\n",
       "      <td>100</td>\n",
       "    </tr>\n",
       "  </tbody>\n",
       "</table>\n",
       "<p>82 rows × 9 columns</p>\n",
       "</div>"
      ],
      "text/plain": [
       "                   RSO Name  Category Social/Professional  Size  \\\n",
       "0                Chess Club  Academic        Professional    30   \n",
       "1          Photography Club      Arts              Social    25   \n",
       "2               Soccer Club    Sports              Social    40   \n",
       "3             Drama Society      Arts              Social    50   \n",
       "4          Mathematics Club  Academic        Professional    20   \n",
       "..                      ...       ...                 ...   ...   \n",
       "77          Philosophy Club  Academic        Professional    20   \n",
       "78                Golf Club    Sports              Social    30   \n",
       "79   Computer Graphics Club      Arts              Social    35   \n",
       "80  Creative Coding Society  Academic        Professional    25   \n",
       "81         Art Therapy Club      Arts              Social    20   \n",
       "\n",
       "    Time Commitment  How Active They Are  Popularity                 Majors  \\\n",
       "0                 3                    8           6                Science   \n",
       "1                 4                    7           5        Performing arts   \n",
       "2                 5                    9           8  Athletic & Recreation   \n",
       "3                 6                    7           7        Performing arts   \n",
       "4                 3                    8           6                Science   \n",
       "..              ...                  ...         ...                    ...   \n",
       "77                3                    7           6                Science   \n",
       "78                3                    7           6  Athletic & Recreation   \n",
       "79                4                    8           7        Performing arts   \n",
       "80                4                    7           7       Computer Science   \n",
       "81                3                    7           6        Performing arts   \n",
       "\n",
       "    userPreference  \n",
       "0              150  \n",
       "1              100  \n",
       "2              100  \n",
       "3              100  \n",
       "4              150  \n",
       "..             ...  \n",
       "77             150  \n",
       "78             100  \n",
       "79             100  \n",
       "80             150  \n",
       "81             100  \n",
       "\n",
       "[82 rows x 9 columns]"
      ]
     },
     "execution_count": 4,
     "metadata": {},
     "output_type": "execute_result"
    }
   ],
   "source": [
    "import plotly.express as px\n",
    "\n",
    "interest_level = [0] * 82\n",
    "df[\"userPreference\"] = interest_level\n",
    "# Get user input for filtering\n",
    "major_filter = input('''Choose a major from the following\n",
    "Engineering\n",
    "Science\n",
    "Computer Science\n",
    "Performing arts\n",
    "Athletic & Recreation\n",
    "Cultural\n",
    "Social\n",
    "Fraternities and Sororities\n",
    "Miscellaneous\n",
    "''')\n",
    "category_filter = input('''Choose a Category from the following\n",
    "Academic\n",
    "Arts\n",
    "Sports\n",
    "Service\n",
    "Special Interest\n",
    "Cultural\n",
    "Business\n",
    "''')\n",
    "ps_filter = input(\"choose (Professional/ Social): \")\n",
    "time_filter = input(\"Enter the time commitment you want in hours/week: \")\n",
    "size_filter = input(\"Enter the member size you prefer: \")\n",
    "for index, row in df.iterrows():\n",
    "  if (row['Majors'] == major_filter):\n",
    "    df.at[index,'userPreference'] = df.at[index,'userPreference']+200\n",
    "  if (row['Category'] == category_filter):\n",
    "    df.at[index,'userPreference'] = df.at[index,'userPreference']+150\n",
    "  if (row['Social/Professional'] == ps_filter) :\n",
    "    df.at[index,'userPreference'] = df.at[index,'userPreference']+100\n",
    "  if row['Time Commitment'] == time_filter:\n",
    "    df.at[index,'userPreference'] = df.at[index,'userPreference']+100\n",
    "  if row['Size'] == size_filter:\n",
    "    df.at[index,'userPreference'] = df.at[index,'userPreference']+100\n",
    "\n",
    "df\n",
    "\n",
    "if not df.empty:\n",
    "    print(\"Filtered DataFrame:\")\n",
    "    print(df)\n",
    "    fig = px.scatter(df, x = \"Popularity\", y = \"userPreference\", size = df[ \"Size\"], hover_name = \"RSO Name\", color = \"How Active They Are\", size_max = 10)\n",
    "    fig.update_traces(opacity=0.75, marker=dict(sizemode='diameter'))\n",
    "    fig.update_layout(\n",
    "    height=500,\n",
    "    width=500\n",
    "    )\n",
    "    fig.show()\n",
    "else:\n",
    "    print(\"No data found matching the filter criteria.\")\n",
    "\n",
    "df"
   ]
  }
 ],
 "metadata": {
  "kernelspec": {
   "display_name": "Python 3",
   "language": "python",
   "name": "python3"
  },
  "language_info": {
   "codemirror_mode": {
    "name": "ipython",
    "version": 3
   },
   "file_extension": ".py",
   "mimetype": "text/x-python",
   "name": "python",
   "nbconvert_exporter": "python",
   "pygments_lexer": "ipython3",
   "version": "3.11.4"
  },
  "orig_nbformat": 4,
  "vscode": {
   "interpreter": {
    "hash": "aee8b7b246df8f9039afb4144a1f6fd8d2ca17a180786b69acc140d282b71a49"
   }
  }
 },
 "nbformat": 4,
 "nbformat_minor": 2
}
